{
 "cells": [
  {
   "cell_type": "markdown",
   "metadata": {},
   "source": [
    "## Usha Manoharan\n",
    "## Segmenting and Clustering Neighborhoods in Toronto\n",
    "\n",
    "In this notebook we will build code to \n",
    "* scrape the web to obtain data about the Neighborhoods of Toronto \n",
    "* use postal codes to obtain the latitude and longitude of the Neighborhoods\n",
    "* analyze the neighborhoods "
   ]
  },
  {
   "cell_type": "markdown",
   "metadata": {},
   "source": [
    "## 1. Scrape the Web to obtain neighborhood data of Toronto"
   ]
  },
  {
   "cell_type": "code",
   "execution_count": 184,
   "metadata": {},
   "outputs": [],
   "source": [
    "import pandas as pd\n",
    "import numpy as np\n",
    "\n",
    "import requests # library to handle requests\n",
    "import random # library for random number generation\n",
    "\n",
    "# libraries for displaying images\n",
    "from IPython.display import Image \n",
    "from IPython.core.display import HTML \n",
    "    \n",
    "# tranforming json file into a pandas dataframe library\n",
    "from pandas.io.json import json_normalize\n",
    "\n",
    "#!conda install -c conda-forge folium=0.5.0 --yes\n",
    "import folium # plotting library"
   ]
  },
  {
   "cell_type": "code",
   "execution_count": 185,
   "metadata": {},
   "outputs": [
    {
     "data": {
      "text/plain": [
       "(103, 3)"
      ]
     },
     "execution_count": 185,
     "metadata": {},
     "output_type": "execute_result"
    }
   ],
   "source": [
    "# Read the html table into a dataframe\n",
    "url = 'https://en.wikipedia.org/wiki/List_of_postal_codes_of_Canada:_M'\n",
    "dfs = pd.read_html(url, header=0)\n",
    "\n",
    "# The first table is the data for toronto city neighborhood \n",
    "toronto_data = dfs[0]\n",
    "\n",
    "# Remove any row which does not have a value assigned for Borough\n",
    "toronto_data.drop(toronto_data[toronto_data['Borough'] == 'Not assigned'].index, inplace=True)\n",
    "# reset the index\n",
    "toronto_data.reset_index(inplace=True, drop=True)\n",
    "\n",
    "\n",
    "# If neighbourhood has a\"Not assigned\", replace it with the value of the \"borough\" of that row\n",
    "toronto_data.loc[toronto_data['Neighborhood'] == 'Not assigned', 'Neighborhood'] = toronto_data['Borough']\n",
    "\n",
    "# group by postalcode and concat the neighborhood values\n",
    "toronto_data.groupby('Postal Code')\n",
    "\n",
    "# check the number of rows in the table\n",
    "toronto_data.shape"
   ]
  },
  {
   "cell_type": "code",
   "execution_count": 186,
   "metadata": {},
   "outputs": [
    {
     "data": {
      "text/html": [
       "<div>\n",
       "<style scoped>\n",
       "    .dataframe tbody tr th:only-of-type {\n",
       "        vertical-align: middle;\n",
       "    }\n",
       "\n",
       "    .dataframe tbody tr th {\n",
       "        vertical-align: top;\n",
       "    }\n",
       "\n",
       "    .dataframe thead th {\n",
       "        text-align: right;\n",
       "    }\n",
       "</style>\n",
       "<table border=\"1\" class=\"dataframe\">\n",
       "  <thead>\n",
       "    <tr style=\"text-align: right;\">\n",
       "      <th></th>\n",
       "      <th>Postal Code</th>\n",
       "      <th>Borough</th>\n",
       "      <th>Neighborhood</th>\n",
       "    </tr>\n",
       "  </thead>\n",
       "  <tbody>\n",
       "    <tr>\n",
       "      <td>0</td>\n",
       "      <td>M3A</td>\n",
       "      <td>North York</td>\n",
       "      <td>Parkwoods</td>\n",
       "    </tr>\n",
       "    <tr>\n",
       "      <td>1</td>\n",
       "      <td>M4A</td>\n",
       "      <td>North York</td>\n",
       "      <td>Victoria Village</td>\n",
       "    </tr>\n",
       "    <tr>\n",
       "      <td>2</td>\n",
       "      <td>M5A</td>\n",
       "      <td>Downtown Toronto</td>\n",
       "      <td>Regent Park, Harbourfront</td>\n",
       "    </tr>\n",
       "    <tr>\n",
       "      <td>3</td>\n",
       "      <td>M6A</td>\n",
       "      <td>North York</td>\n",
       "      <td>Lawrence Manor, Lawrence Heights</td>\n",
       "    </tr>\n",
       "    <tr>\n",
       "      <td>4</td>\n",
       "      <td>M7A</td>\n",
       "      <td>Downtown Toronto</td>\n",
       "      <td>Queen's Park, Ontario Provincial Government</td>\n",
       "    </tr>\n",
       "  </tbody>\n",
       "</table>\n",
       "</div>"
      ],
      "text/plain": [
       "  Postal Code           Borough                                 Neighborhood\n",
       "0  M3A         North York        Parkwoods                                  \n",
       "1  M4A         North York        Victoria Village                           \n",
       "2  M5A         Downtown Toronto  Regent Park, Harbourfront                  \n",
       "3  M6A         North York        Lawrence Manor, Lawrence Heights           \n",
       "4  M7A         Downtown Toronto  Queen's Park, Ontario Provincial Government"
      ]
     },
     "execution_count": 186,
     "metadata": {},
     "output_type": "execute_result"
    }
   ],
   "source": [
    "# Examine the first few rows of data\n",
    "toronto_data.head()"
   ]
  },
  {
   "cell_type": "markdown",
   "metadata": {},
   "source": [
    "## 2. Get the latitude and longitude for each neighborhood"
   ]
  },
  {
   "cell_type": "code",
   "execution_count": 187,
   "metadata": {},
   "outputs": [
    {
     "data": {
      "text/html": [
       "<div>\n",
       "<style scoped>\n",
       "    .dataframe tbody tr th:only-of-type {\n",
       "        vertical-align: middle;\n",
       "    }\n",
       "\n",
       "    .dataframe tbody tr th {\n",
       "        vertical-align: top;\n",
       "    }\n",
       "\n",
       "    .dataframe thead th {\n",
       "        text-align: right;\n",
       "    }\n",
       "</style>\n",
       "<table border=\"1\" class=\"dataframe\">\n",
       "  <thead>\n",
       "    <tr style=\"text-align: right;\">\n",
       "      <th></th>\n",
       "      <th>Postal Code</th>\n",
       "      <th>Borough</th>\n",
       "      <th>Neighborhood</th>\n",
       "      <th>Latitude</th>\n",
       "      <th>Longitude</th>\n",
       "    </tr>\n",
       "  </thead>\n",
       "  <tbody>\n",
       "    <tr>\n",
       "      <td>0</td>\n",
       "      <td>M3A</td>\n",
       "      <td>North York</td>\n",
       "      <td>Parkwoods</td>\n",
       "      <td>43.753259</td>\n",
       "      <td>-79.329656</td>\n",
       "    </tr>\n",
       "    <tr>\n",
       "      <td>1</td>\n",
       "      <td>M4A</td>\n",
       "      <td>North York</td>\n",
       "      <td>Victoria Village</td>\n",
       "      <td>43.725882</td>\n",
       "      <td>-79.315572</td>\n",
       "    </tr>\n",
       "    <tr>\n",
       "      <td>2</td>\n",
       "      <td>M5A</td>\n",
       "      <td>Downtown Toronto</td>\n",
       "      <td>Regent Park, Harbourfront</td>\n",
       "      <td>43.654260</td>\n",
       "      <td>-79.360636</td>\n",
       "    </tr>\n",
       "    <tr>\n",
       "      <td>3</td>\n",
       "      <td>M6A</td>\n",
       "      <td>North York</td>\n",
       "      <td>Lawrence Manor, Lawrence Heights</td>\n",
       "      <td>43.718518</td>\n",
       "      <td>-79.464763</td>\n",
       "    </tr>\n",
       "    <tr>\n",
       "      <td>4</td>\n",
       "      <td>M7A</td>\n",
       "      <td>Downtown Toronto</td>\n",
       "      <td>Queen's Park, Ontario Provincial Government</td>\n",
       "      <td>43.662301</td>\n",
       "      <td>-79.389494</td>\n",
       "    </tr>\n",
       "  </tbody>\n",
       "</table>\n",
       "</div>"
      ],
      "text/plain": [
       "  Postal Code           Borough                                 Neighborhood  \\\n",
       "0  M3A         North York        Parkwoods                                     \n",
       "1  M4A         North York        Victoria Village                              \n",
       "2  M5A         Downtown Toronto  Regent Park, Harbourfront                     \n",
       "3  M6A         North York        Lawrence Manor, Lawrence Heights              \n",
       "4  M7A         Downtown Toronto  Queen's Park, Ontario Provincial Government   \n",
       "\n",
       "    Latitude  Longitude  \n",
       "0  43.753259 -79.329656  \n",
       "1  43.725882 -79.315572  \n",
       "2  43.654260 -79.360636  \n",
       "3  43.718518 -79.464763  \n",
       "4  43.662301 -79.389494  "
      ]
     },
     "execution_count": 187,
     "metadata": {},
     "output_type": "execute_result"
    }
   ],
   "source": [
    "lat_lng_df = pd.read_csv(r'~/Downloads/Geospatial_Coordinates.csv')\n",
    "\n",
    "# merge on postal code\n",
    "merged_tdata = pd.merge(left=toronto_data, right=lat_lng_df, left_on='Postal Code', right_on='Postal Code')\n",
    "merged_tdata.head()"
   ]
  },
  {
   "cell_type": "markdown",
   "metadata": {},
   "source": [
    "## 3. Let's Analyze the Downtown Toronto area\n",
    "### a. Let's search for Thai restaurants at Downtown Toronto location with latitude = 43.654260, longitude = -79.360636 and show it on a map."
   ]
  },
  {
   "cell_type": "code",
   "execution_count": 188,
   "metadata": {},
   "outputs": [],
   "source": [
    "CLIENT_ID = 'RH22D4PCG0P0WNNVLKO0ML4EUJ0T01KJBSXGTT4PHOIDAFDC-' \n",
    "CLIENT_SECRET = 'J51KSD11D5BGYWHJJIHMSEOGAMUIXJPXSFTV4HIMCJT0PURV-'\n",
    "VERSION = '20200707'\n",
    "LIMIT = 30"
   ]
  },
  {
   "cell_type": "code",
   "execution_count": 189,
   "metadata": {},
   "outputs": [],
   "source": [
    "search_query = 'Thai'\n",
    "radius = 500\n",
    "latitude = 43.654260\n",
    "longitude = -79.360636\n",
    "url = 'https://api.foursquare.com/v2/venues/search?client_id={}&client_secret={}&ll={},{}&v={}&query={}&radius={}&limit={}'.format(CLIENT_ID, CLIENT_SECRET, latitude, longitude, VERSION, search_query, radius, LIMIT)"
   ]
  },
  {
   "cell_type": "code",
   "execution_count": 190,
   "metadata": {},
   "outputs": [],
   "source": [
    "results = requests.get(url).json()"
   ]
  },
  {
   "cell_type": "code",
   "execution_count": 191,
   "metadata": {},
   "outputs": [],
   "source": [
    "# assign relevant part of JSON to venues\n",
    "venues = results['response']['venues']\n",
    "\n",
    "# tranform venues into a dataframe\n",
    "vdf = json_normalize(venues)"
   ]
  },
  {
   "cell_type": "code",
   "execution_count": 192,
   "metadata": {},
   "outputs": [
    {
     "data": {
      "text/html": [
       "<div>\n",
       "<style scoped>\n",
       "    .dataframe tbody tr th:only-of-type {\n",
       "        vertical-align: middle;\n",
       "    }\n",
       "\n",
       "    .dataframe tbody tr th {\n",
       "        vertical-align: top;\n",
       "    }\n",
       "\n",
       "    .dataframe thead th {\n",
       "        text-align: right;\n",
       "    }\n",
       "</style>\n",
       "<table border=\"1\" class=\"dataframe\">\n",
       "  <thead>\n",
       "    <tr style=\"text-align: right;\">\n",
       "      <th></th>\n",
       "      <th>name</th>\n",
       "      <th>categories</th>\n",
       "      <th>address</th>\n",
       "      <th>lat</th>\n",
       "      <th>lng</th>\n",
       "      <th>labeledLatLngs</th>\n",
       "      <th>distance</th>\n",
       "      <th>postalCode</th>\n",
       "      <th>cc</th>\n",
       "      <th>city</th>\n",
       "      <th>state</th>\n",
       "      <th>country</th>\n",
       "      <th>formattedAddress</th>\n",
       "      <th>crossStreet</th>\n",
       "      <th>id</th>\n",
       "    </tr>\n",
       "  </thead>\n",
       "  <tbody>\n",
       "    <tr>\n",
       "      <td>0</td>\n",
       "      <td>Mengrai Gourmet Thai</td>\n",
       "      <td>Thai Restaurant</td>\n",
       "      <td>82 Ontario St</td>\n",
       "      <td>43.654102</td>\n",
       "      <td>-79.366800</td>\n",
       "      <td>[{'label': 'display', 'lat': 43.654102, 'lng': -79.3668}]</td>\n",
       "      <td>496</td>\n",
       "      <td>M5A 2V3</td>\n",
       "      <td>CA</td>\n",
       "      <td>Toronto</td>\n",
       "      <td>ON</td>\n",
       "      <td>Canada</td>\n",
       "      <td>[82 Ontario St, Toronto ON M5A 2V3, Canada]</td>\n",
       "      <td>NaN</td>\n",
       "      <td>58718c5b809a7743ecda3164</td>\n",
       "    </tr>\n",
       "    <tr>\n",
       "      <td>1</td>\n",
       "      <td>Sukhothai</td>\n",
       "      <td>Thai Restaurant</td>\n",
       "      <td>490 Front Street East</td>\n",
       "      <td>43.653701</td>\n",
       "      <td>-79.354447</td>\n",
       "      <td>[{'label': 'display', 'lat': 43.653700903664294, 'lng': -79.3544465359079}]</td>\n",
       "      <td>502</td>\n",
       "      <td>M5A 1H7</td>\n",
       "      <td>CA</td>\n",
       "      <td>Toronto</td>\n",
       "      <td>ON</td>\n",
       "      <td>Canada</td>\n",
       "      <td>[490 Front Street East, Toronto ON M5A 1H7, Canada]</td>\n",
       "      <td>NaN</td>\n",
       "      <td>59cd8a18e179105e08f003c6</td>\n",
       "    </tr>\n",
       "    <tr>\n",
       "      <td>3</td>\n",
       "      <td>Sukhothai</td>\n",
       "      <td>Thai Restaurant</td>\n",
       "      <td>274 Parliament St</td>\n",
       "      <td>43.658444</td>\n",
       "      <td>-79.365681</td>\n",
       "      <td>[{'label': 'display', 'lat': 43.658444465539525, 'lng': -79.36568085121628}]</td>\n",
       "      <td>618</td>\n",
       "      <td>M5A 2Z6</td>\n",
       "      <td>CA</td>\n",
       "      <td>Toronto</td>\n",
       "      <td>ON</td>\n",
       "      <td>Canada</td>\n",
       "      <td>[274 Parliament St (btwn Coatsworth St. &amp; Shuter St.), Toronto ON M5A 2Z6, Canada]</td>\n",
       "      <td>btwn Coatsworth St. &amp; Shuter St.</td>\n",
       "      <td>4ada57aff964a520972121e3</td>\n",
       "    </tr>\n",
       "  </tbody>\n",
       "</table>\n",
       "</div>"
      ],
      "text/plain": [
       "                   name       categories                address        lat  \\\n",
       "0  Mengrai Gourmet Thai  Thai Restaurant  82 Ontario St          43.654102   \n",
       "1  Sukhothai             Thai Restaurant  490 Front Street East  43.653701   \n",
       "3  Sukhothai             Thai Restaurant  274 Parliament St      43.658444   \n",
       "\n",
       "         lng  \\\n",
       "0 -79.366800   \n",
       "1 -79.354447   \n",
       "3 -79.365681   \n",
       "\n",
       "                                                                 labeledLatLngs  \\\n",
       "0  [{'label': 'display', 'lat': 43.654102, 'lng': -79.3668}]                      \n",
       "1  [{'label': 'display', 'lat': 43.653700903664294, 'lng': -79.3544465359079}]    \n",
       "3  [{'label': 'display', 'lat': 43.658444465539525, 'lng': -79.36568085121628}]   \n",
       "\n",
       "   distance postalCode  cc     city state country  \\\n",
       "0  496       M5A 2V3    CA  Toronto  ON    Canada   \n",
       "1  502       M5A 1H7    CA  Toronto  ON    Canada   \n",
       "3  618       M5A 2Z6    CA  Toronto  ON    Canada   \n",
       "\n",
       "                                                                     formattedAddress  \\\n",
       "0  [82 Ontario St, Toronto ON M5A 2V3, Canada]                                          \n",
       "1  [490 Front Street East, Toronto ON M5A 1H7, Canada]                                  \n",
       "3  [274 Parliament St (btwn Coatsworth St. & Shuter St.), Toronto ON M5A 2Z6, Canada]   \n",
       "\n",
       "                        crossStreet                        id  \n",
       "0  NaN                               58718c5b809a7743ecda3164  \n",
       "1  NaN                               59cd8a18e179105e08f003c6  \n",
       "3  btwn Coatsworth St. & Shuter St.  4ada57aff964a520972121e3  "
      ]
     },
     "execution_count": 192,
     "metadata": {},
     "output_type": "execute_result"
    }
   ],
   "source": [
    "# keep only columns that include venue name, and anything that is associated with location\n",
    "filtered_columns = ['name', 'categories'] + [col for col in vdf.columns if col.startswith('location.')] + ['id']\n",
    "vdf_filtered = vdf.loc[:, filtered_columns]\n",
    "\n",
    "# function that extracts the category of the venue\n",
    "def get_category_type(row):\n",
    "    try:\n",
    "        categories_list = row['categories']\n",
    "    except:\n",
    "        categories_list = row['venue.categories']\n",
    "        \n",
    "    if len(categories_list) == 0:\n",
    "        return None\n",
    "    else:\n",
    "        return categories_list[0]['name']\n",
    "\n",
    "# filter the category for each row\n",
    "vdf_filtered['categories'] = vdf_filtered.apply(get_category_type, axis=1)\n",
    "\n",
    "# clean column names by keeping only last term\n",
    "vdf_filtered.columns = [column.split('.')[-1] for column in vdf_filtered.columns]\n",
    "vdf_filtered = vdf_filtered[vdf_filtered.categories == 'Thai Restaurant']\n",
    "vdf_filtered"
   ]
  },
  {
   "cell_type": "code",
   "execution_count": 193,
   "metadata": {},
   "outputs": [
    {
     "data": {
      "text/html": [
       "<div style=\"width:100%;\"><div style=\"position:relative;width:100%;height:0;padding-bottom:60%;\"><span style=\"color:#565656\">Make this Notebook Trusted to load map: File -> Trust Notebook</span><iframe src=\"about:blank\" style=\"position:absolute;width:100%;height:100%;left:0;top:0;border:none !important;\" data-html=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 onload=\"this.contentDocument.open();this.contentDocument.write(atob(this.getAttribute('data-html')));this.contentDocument.close();\" allowfullscreen webkitallowfullscreen mozallowfullscreen></iframe></div></div>"
      ],
      "text/plain": [
       "<folium.folium.Map at 0x7fb7a4e91ad0>"
      ]
     },
     "execution_count": 193,
     "metadata": {},
     "output_type": "execute_result"
    }
   ],
   "source": [
    "venues_map = folium.Map(location=[latitude, longitude], zoom_start=14) #generate map \n",
    "# add a red circle marker to represent the address at the given latitude, longitude\n",
    "folium.features.CircleMarker(\n",
    "    [latitude, longitude],\n",
    "    radius=10,\n",
    "    color='red',\n",
    "    popup='My location',\n",
    "    fill = True,\n",
    "    fill_color = 'red',\n",
    "    fill_opacity = 0.6\n",
    ").add_to(venues_map)\n",
    "\n",
    "# add the Thai restaurants as blue circle markers\n",
    "for lat, lng, label in zip(vdf_filtered.lat, vdf_filtered.lng, vdf_filtered.name):\n",
    "    folium.features.CircleMarker(\n",
    "        [lat, lng],\n",
    "        radius=5,\n",
    "        color='blue',\n",
    "        popup=label,\n",
    "        fill = True,\n",
    "        fill_color='blue',\n",
    "        fill_opacity=0.6\n",
    "    ).add_to(venues_map)\n",
    "\n",
    "# display map\n",
    "venues_map"
   ]
  },
  {
   "cell_type": "markdown",
   "metadata": {},
   "source": [
    "### b. Let's get the Ratings of all three Thai restaurants near My location"
   ]
  },
  {
   "cell_type": "code",
   "execution_count": 194,
   "metadata": {},
   "outputs": [
    {
     "name": "stdout",
     "output_type": "stream",
     "text": [
      "Mengrai Gourmet Thai,82 Ontario St\n",
      "Ratings: 5.8\n",
      "Sukhothai,490 Front Street East\n",
      "Ratings: 6.6\n",
      "Sukhothai,274 Parliament St\n",
      "Ratings: 8.4\n"
     ]
    }
   ],
   "source": [
    "for venue_id in vdf_filtered.id :\n",
    "    #venue_id = '4ada57aff964a520972121e3' # ID of Sukothat at Parliament St.\n",
    "    url = 'https://api.foursquare.com/v2/venues/{}?client_id={}&client_secret={}&v={}'.format(venue_id, CLIENT_ID, CLIENT_SECRET, VERSION)\n",
    "    result = requests.get(url).json()\n",
    "\n",
    "    try:\n",
    "        print('{},{}'.format(result['response']['venue']['name'], result['response']['venue']['location']['address']))\n",
    "        print('Ratings: {}'.format(result['response']['venue']['rating']))\n",
    "    except:\n",
    "        print('This venue has not been rated yet.')"
   ]
  },
  {
   "cell_type": "markdown",
   "metadata": {},
   "source": [
    "### c. Let's get the tips and features associated to \"Sukothai\" at Parliament St, which has the best ratings."
   ]
  },
  {
   "cell_type": "code",
   "execution_count": 195,
   "metadata": {},
   "outputs": [
    {
     "data": {
      "text/plain": [
       "53"
      ]
     },
     "execution_count": 195,
     "metadata": {},
     "output_type": "execute_result"
    }
   ],
   "source": [
    "#Get the number of tips\n",
    "result['response']['venue']['tips']['count']"
   ]
  },
  {
   "cell_type": "code",
   "execution_count": 196,
   "metadata": {},
   "outputs": [
    {
     "data": {
      "text/plain": [
       "{'meta': {'code': 200, 'requestId': '5f06af457b9ef927ef8446cf'},\n",
       " 'response': {'tips': {'count': 53,\n",
       "   'items': [{'id': '563a2093cd10d1146b83d990',\n",
       "     'createdAt': 1446650003,\n",
       "     'text': \"Can't go wrong with the house pad Thai! Prices also seem cheaper than their other locations, maybe due to location.\",\n",
       "     'type': 'user',\n",
       "     'canonicalUrl': 'https://foursquare.com/item/563a2093cd10d1146b83d990',\n",
       "     'photo': {'id': '563a213fcd10509fe847ee18',\n",
       "      'createdAt': 1446650175,\n",
       "      'source': {'name': 'Foursquare for iOS',\n",
       "       'url': 'https://foursquare.com/download/#/iphone'},\n",
       "      'prefix': 'https://fastly.4sqi.net/img/general/',\n",
       "      'suffix': '/126247549_rkK5spH3F8LZH8T9wHcTw7pHIIZVRVRARpI5Ob5s57w.jpg',\n",
       "      'width': 1440,\n",
       "      'height': 1440,\n",
       "      'visibility': 'public'},\n",
       "     'photourl': 'https://fastly.4sqi.net/img/general/original/126247549_rkK5spH3F8LZH8T9wHcTw7pHIIZVRVRARpI5Ob5s57w.jpg',\n",
       "     'lang': 'en',\n",
       "     'likes': {'count': 0, 'groups': []},\n",
       "     'logView': True,\n",
       "     'agreeCount': 1,\n",
       "     'disagreeCount': 0,\n",
       "     'todo': {'count': 0},\n",
       "     'user': {'id': '126247549',\n",
       "      'firstName': '🙊🙉🙈',\n",
       "      'photo': {'prefix': 'https://fastly.4sqi.net/img/user/',\n",
       "       'suffix': '/126247549-02CGK2CZM1IZB4QJ.jpg'}},\n",
       "     'authorInteractionType': 'liked'}]}}}"
      ]
     },
     "execution_count": 196,
     "metadata": {},
     "output_type": "execute_result"
    }
   ],
   "source": [
    "## Sukothai at Parliament St, Tips\n",
    "limit = 2 # set limit to 2\n",
    "venue_id = '4ada57aff964a520972121e3' # ID of Sukothat at Parliament St.\n",
    "url = 'https://api.foursquare.com/v2/venues/{}/tips?client_id={}&client_secret={}&v={}&limit={}'.format(venue_id, CLIENT_ID, CLIENT_SECRET, VERSION, limit)\n",
    "\n",
    "results = requests.get(url).json()\n",
    "results"
   ]
  },
  {
   "cell_type": "code",
   "execution_count": 197,
   "metadata": {},
   "outputs": [
    {
     "data": {
      "text/plain": [
       "dict_keys(['id', 'createdAt', 'text', 'type', 'canonicalUrl', 'photo', 'photourl', 'lang', 'likes', 'logView', 'agreeCount', 'disagreeCount', 'todo', 'user', 'authorInteractionType'])"
      ]
     },
     "execution_count": 197,
     "metadata": {},
     "output_type": "execute_result"
    }
   ],
   "source": [
    "#Get tips and associated features\n",
    "tips = results['response']['tips']['items']\n",
    "\n",
    "tip = results['response']['tips']['items'][0]\n",
    "tip.keys()"
   ]
  },
  {
   "cell_type": "code",
   "execution_count": 198,
   "metadata": {},
   "outputs": [
    {
     "name": "stderr",
     "output_type": "stream",
     "text": [
      "/opt/anaconda3/lib/python3.7/site-packages/pandas/core/indexing.py:1418: FutureWarning: \n",
      "Passing list-likes to .loc or [] with any missing label will raise\n",
      "KeyError in the future, you can use .reindex() as an alternative.\n",
      "\n",
      "See the documentation here:\n",
      "https://pandas.pydata.org/pandas-docs/stable/user_guide/indexing.html#deprecate-loc-reindex-listlike\n",
      "  return self._getitem_tuple(key)\n"
     ]
    },
    {
     "data": {
      "text/html": [
       "<div>\n",
       "<style scoped>\n",
       "    .dataframe tbody tr th:only-of-type {\n",
       "        vertical-align: middle;\n",
       "    }\n",
       "\n",
       "    .dataframe tbody tr th {\n",
       "        vertical-align: top;\n",
       "    }\n",
       "\n",
       "    .dataframe thead th {\n",
       "        text-align: right;\n",
       "    }\n",
       "</style>\n",
       "<table border=\"1\" class=\"dataframe\">\n",
       "  <thead>\n",
       "    <tr style=\"text-align: right;\">\n",
       "      <th></th>\n",
       "      <th>text</th>\n",
       "      <th>agreeCount</th>\n",
       "      <th>disagreeCount</th>\n",
       "      <th>id</th>\n",
       "      <th>user.firstName</th>\n",
       "      <th>user.lastName</th>\n",
       "      <th>user.gender</th>\n",
       "      <th>user.id</th>\n",
       "    </tr>\n",
       "  </thead>\n",
       "  <tbody>\n",
       "    <tr>\n",
       "      <td>0</td>\n",
       "      <td>Can't go wrong with the house pad Thai! Prices also seem cheaper than their other locations, maybe due to location.</td>\n",
       "      <td>1</td>\n",
       "      <td>0</td>\n",
       "      <td>563a2093cd10d1146b83d990</td>\n",
       "      <td>🙊🙉🙈</td>\n",
       "      <td>NaN</td>\n",
       "      <td>NaN</td>\n",
       "      <td>126247549</td>\n",
       "    </tr>\n",
       "  </tbody>\n",
       "</table>\n",
       "</div>"
      ],
      "text/plain": [
       "                                                                                                                  text  \\\n",
       "0  Can't go wrong with the house pad Thai! Prices also seem cheaper than their other locations, maybe due to location.   \n",
       "\n",
       "   agreeCount  disagreeCount                        id user.firstName  \\\n",
       "0  1           0              563a2093cd10d1146b83d990  🙊🙉🙈             \n",
       "\n",
       "   user.lastName  user.gender    user.id  \n",
       "0 NaN            NaN           126247549  "
      ]
     },
     "execution_count": 198,
     "metadata": {},
     "output_type": "execute_result"
    }
   ],
   "source": [
    "#format and display tips\n",
    "pd.set_option('display.max_colwidth', -1)\n",
    "\n",
    "tips_df = json_normalize(tips) # json normalize tips\n",
    "\n",
    "# columns to keep\n",
    "filtered_columns = ['text', 'agreeCount', 'disagreeCount', 'id', 'user.firstName', 'user.lastName', 'user.gender', 'user.id']\n",
    "tips_filtered = tips_df.loc[:, filtered_columns]\n",
    "\n",
    "# display tips\n",
    "tips_filtered"
   ]
  },
  {
   "cell_type": "markdown",
   "metadata": {},
   "source": [
    "## 4. Explore around \"Sukothai @ Parliament St\""
   ]
  },
  {
   "cell_type": "code",
   "execution_count": 199,
   "metadata": {},
   "outputs": [
    {
     "data": {
      "text/plain": [
       "'https://api.foursquare.com/v2/venues/explore?client_id=RH22D4PCG0P0WNNVLKO0ML4EUJ0T01KJBSXGTT4PHOIDAFDC&client_secret=J51KSD11D5BGYWHJJIHMSEOGAMUIXJPXSFTV4HIMCJT0PURV&ll=43.658444,-79.365681&v=20200707&radius=500&limit=30'"
      ]
     },
     "execution_count": 199,
     "metadata": {},
     "output_type": "execute_result"
    }
   ],
   "source": [
    "latitude = 43.658444\n",
    "longitude = -79.365681\n",
    "url = 'https://api.foursquare.com/v2/venues/explore?client_id={}&client_secret={}&ll={},{}&v={}&radius={}&limit={}'.format(CLIENT_ID, CLIENT_SECRET, latitude, longitude, VERSION, radius, LIMIT)\n",
    "url"
   ]
  },
  {
   "cell_type": "code",
   "execution_count": 201,
   "metadata": {},
   "outputs": [
    {
     "data": {
      "text/plain": [
       "'There are 29 around Sukothai restaurant.'"
      ]
     },
     "execution_count": 201,
     "metadata": {},
     "output_type": "execute_result"
    }
   ],
   "source": [
    "results = requests.get(url).json()\n",
    "'There are {} around Sukothai restaurant.'.format(len(results['response']['groups'][0]['items']))"
   ]
  },
  {
   "cell_type": "code",
   "execution_count": 202,
   "metadata": {},
   "outputs": [
    {
     "data": {
      "text/plain": [
       "{'reasons': {'count': 0,\n",
       "  'items': [{'summary': 'This spot is popular',\n",
       "    'type': 'general',\n",
       "    'reasonName': 'globalInteractionReason'}]},\n",
       " 'venue': {'id': '4ada57aff964a520972121e3',\n",
       "  'name': 'Sukhothai',\n",
       "  'location': {'address': '274 Parliament St',\n",
       "   'crossStreet': 'btwn Coatsworth St. & Shuter St.',\n",
       "   'lat': 43.658444465539525,\n",
       "   'lng': -79.36568085121628,\n",
       "   'labeledLatLngs': [{'label': 'display',\n",
       "     'lat': 43.658444465539525,\n",
       "     'lng': -79.36568085121628}],\n",
       "   'distance': 0,\n",
       "   'postalCode': 'M5A 2Z6',\n",
       "   'cc': 'CA',\n",
       "   'city': 'Toronto',\n",
       "   'state': 'ON',\n",
       "   'country': 'Canada',\n",
       "   'formattedAddress': ['274 Parliament St (btwn Coatsworth St. & Shuter St.)',\n",
       "    'Toronto ON M5A 2Z6',\n",
       "    'Canada']},\n",
       "  'categories': [{'id': '4bf58dd8d48988d149941735',\n",
       "    'name': 'Thai Restaurant',\n",
       "    'pluralName': 'Thai Restaurants',\n",
       "    'shortName': 'Thai',\n",
       "    'icon': {'prefix': 'https://ss3.4sqi.net/img/categories_v2/food/thai_',\n",
       "     'suffix': '.png'},\n",
       "    'primary': True}],\n",
       "  'photos': {'count': 0, 'groups': []}},\n",
       " 'referralId': 'e-0-4ada57aff964a520972121e3-0'}"
      ]
     },
     "execution_count": 202,
     "metadata": {},
     "output_type": "execute_result"
    }
   ],
   "source": [
    "items = results['response']['groups'][0]['items']\n",
    "items[0]"
   ]
  },
  {
   "cell_type": "code",
   "execution_count": 203,
   "metadata": {},
   "outputs": [
    {
     "data": {
      "text/html": [
       "<div>\n",
       "<style scoped>\n",
       "    .dataframe tbody tr th:only-of-type {\n",
       "        vertical-align: middle;\n",
       "    }\n",
       "\n",
       "    .dataframe tbody tr th {\n",
       "        vertical-align: top;\n",
       "    }\n",
       "\n",
       "    .dataframe thead th {\n",
       "        text-align: right;\n",
       "    }\n",
       "</style>\n",
       "<table border=\"1\" class=\"dataframe\">\n",
       "  <thead>\n",
       "    <tr style=\"text-align: right;\">\n",
       "      <th></th>\n",
       "      <th>name</th>\n",
       "      <th>categories</th>\n",
       "      <th>address</th>\n",
       "      <th>crossStreet</th>\n",
       "      <th>lat</th>\n",
       "      <th>lng</th>\n",
       "      <th>labeledLatLngs</th>\n",
       "      <th>distance</th>\n",
       "      <th>postalCode</th>\n",
       "      <th>cc</th>\n",
       "      <th>city</th>\n",
       "      <th>state</th>\n",
       "      <th>country</th>\n",
       "      <th>formattedAddress</th>\n",
       "      <th>neighborhood</th>\n",
       "      <th>id</th>\n",
       "    </tr>\n",
       "  </thead>\n",
       "  <tbody>\n",
       "    <tr>\n",
       "      <td>0</td>\n",
       "      <td>Sukhothai</td>\n",
       "      <td>Thai Restaurant</td>\n",
       "      <td>274 Parliament St</td>\n",
       "      <td>btwn Coatsworth St. &amp; Shuter St.</td>\n",
       "      <td>43.658444</td>\n",
       "      <td>-79.365681</td>\n",
       "      <td>[{'label': 'display', 'lat': 43.658444465539525, 'lng': -79.36568085121628}]</td>\n",
       "      <td>0</td>\n",
       "      <td>M5A 2Z6</td>\n",
       "      <td>CA</td>\n",
       "      <td>Toronto</td>\n",
       "      <td>ON</td>\n",
       "      <td>Canada</td>\n",
       "      <td>[274 Parliament St (btwn Coatsworth St. &amp; Shuter St.), Toronto ON M5A 2Z6, Canada]</td>\n",
       "      <td>NaN</td>\n",
       "      <td>4ada57aff964a520972121e3</td>\n",
       "    </tr>\n",
       "    <tr>\n",
       "      <td>1</td>\n",
       "      <td>I Love Churros</td>\n",
       "      <td>Food Truck</td>\n",
       "      <td>1017 Dufferin St</td>\n",
       "      <td>Bloor St West</td>\n",
       "      <td>43.658364</td>\n",
       "      <td>-79.365583</td>\n",
       "      <td>[{'label': 'display', 'lat': 43.65836361668554, 'lng': -79.36558277878224}]</td>\n",
       "      <td>11</td>\n",
       "      <td>M6H 4B5</td>\n",
       "      <td>CA</td>\n",
       "      <td>Toronto</td>\n",
       "      <td>ON</td>\n",
       "      <td>Canada</td>\n",
       "      <td>[1017 Dufferin St (Bloor St West), Toronto ON M6H 4B5, Canada]</td>\n",
       "      <td>NaN</td>\n",
       "      <td>50899387e4b055a756b254fc</td>\n",
       "    </tr>\n",
       "    <tr>\n",
       "      <td>2</td>\n",
       "      <td>Figs Breakfast &amp; Lunch</td>\n",
       "      <td>Breakfast Spot</td>\n",
       "      <td>344 Queen St. E.</td>\n",
       "      <td>at Parliament St.</td>\n",
       "      <td>43.655675</td>\n",
       "      <td>-79.364503</td>\n",
       "      <td>[{'label': 'display', 'lat': 43.65567455427388, 'lng': -79.3645032892494}]</td>\n",
       "      <td>322</td>\n",
       "      <td>M5A 1S8</td>\n",
       "      <td>CA</td>\n",
       "      <td>Toronto</td>\n",
       "      <td>ON</td>\n",
       "      <td>Canada</td>\n",
       "      <td>[344 Queen St. E. (at Parliament St.), Toronto ON M5A 1S8, Canada]</td>\n",
       "      <td>NaN</td>\n",
       "      <td>4af59046f964a520e0f921e3</td>\n",
       "    </tr>\n",
       "    <tr>\n",
       "      <td>3</td>\n",
       "      <td>Regent Park Aquatic Centre</td>\n",
       "      <td>Pool</td>\n",
       "      <td>640 Dundas St. East</td>\n",
       "      <td>at Sumach St.</td>\n",
       "      <td>43.660600</td>\n",
       "      <td>-79.361392</td>\n",
       "      <td>[{'label': 'display', 'lat': 43.6606003130796, 'lng': -79.36139162915349}]</td>\n",
       "      <td>420</td>\n",
       "      <td>M5A 2B8</td>\n",
       "      <td>CA</td>\n",
       "      <td>Toronto</td>\n",
       "      <td>ON</td>\n",
       "      <td>Canada</td>\n",
       "      <td>[640 Dundas St. East (at Sumach St.), Toronto ON M5A 2B8, Canada]</td>\n",
       "      <td>NaN</td>\n",
       "      <td>5092fe87e4b0476c6e7375e2</td>\n",
       "    </tr>\n",
       "    <tr>\n",
       "      <td>4</td>\n",
       "      <td>Ontario Restaurant</td>\n",
       "      <td>Diner</td>\n",
       "      <td>383 dundas street east</td>\n",
       "      <td>NaN</td>\n",
       "      <td>43.658883</td>\n",
       "      <td>-79.368369</td>\n",
       "      <td>[{'label': 'display', 'lat': 43.65888321199789, 'lng': -79.36836906142996}]</td>\n",
       "      <td>221</td>\n",
       "      <td>NaN</td>\n",
       "      <td>CA</td>\n",
       "      <td>Toronto</td>\n",
       "      <td>ON</td>\n",
       "      <td>Canada</td>\n",
       "      <td>[383 dundas street east, Toronto ON, Canada]</td>\n",
       "      <td>NaN</td>\n",
       "      <td>4ae666dbf964a520dca621e3</td>\n",
       "    </tr>\n",
       "    <tr>\n",
       "      <td>5</td>\n",
       "      <td>Daniels Spectrum</td>\n",
       "      <td>Performing Arts Venue</td>\n",
       "      <td>585 Dundas St. East</td>\n",
       "      <td>btwn Regent &amp; Sumach</td>\n",
       "      <td>43.660137</td>\n",
       "      <td>-79.361808</td>\n",
       "      <td>[{'label': 'display', 'lat': 43.66013679276432, 'lng': -79.36180783336452}]</td>\n",
       "      <td>364</td>\n",
       "      <td>M5A 2B7</td>\n",
       "      <td>CA</td>\n",
       "      <td>Toronto</td>\n",
       "      <td>ON</td>\n",
       "      <td>Canada</td>\n",
       "      <td>[585 Dundas St. East (btwn Regent &amp; Sumach), Toronto ON M5A 2B7, Canada]</td>\n",
       "      <td>NaN</td>\n",
       "      <td>505af105e4b0df441225430b</td>\n",
       "    </tr>\n",
       "    <tr>\n",
       "      <td>6</td>\n",
       "      <td>Paintbox Bistro</td>\n",
       "      <td>Restaurant</td>\n",
       "      <td>555 Dundas St E</td>\n",
       "      <td>Sackville St</td>\n",
       "      <td>43.660050</td>\n",
       "      <td>-79.362855</td>\n",
       "      <td>[{'label': 'display', 'lat': 43.660050475903624, 'lng': -79.36285470971839}]</td>\n",
       "      <td>289</td>\n",
       "      <td>M5A 2B7</td>\n",
       "      <td>CA</td>\n",
       "      <td>Toronto</td>\n",
       "      <td>ON</td>\n",
       "      <td>Canada</td>\n",
       "      <td>[555 Dundas St E (Sackville St), Toronto ON M5A 2B7, Canada]</td>\n",
       "      <td>NaN</td>\n",
       "      <td>505bacb2e4b0474d876eb78c</td>\n",
       "    </tr>\n",
       "    <tr>\n",
       "      <td>7</td>\n",
       "      <td>The Yoga Lounge</td>\n",
       "      <td>Yoga Studio</td>\n",
       "      <td>106 Sherbourne St.</td>\n",
       "      <td>at Adelaide St. East</td>\n",
       "      <td>43.655515</td>\n",
       "      <td>-79.364955</td>\n",
       "      <td>[{'label': 'display', 'lat': 43.65551522261721, 'lng': -79.36495542526245}]</td>\n",
       "      <td>331</td>\n",
       "      <td>NaN</td>\n",
       "      <td>CA</td>\n",
       "      <td>Toronto</td>\n",
       "      <td>ON</td>\n",
       "      <td>Canada</td>\n",
       "      <td>[106 Sherbourne St. (at Adelaide St. East), Toronto ON, Canada]</td>\n",
       "      <td>NaN</td>\n",
       "      <td>4b58dd55f964a5208f6f28e3</td>\n",
       "    </tr>\n",
       "    <tr>\n",
       "      <td>8</td>\n",
       "      <td>Berkeley Church</td>\n",
       "      <td>Event Space</td>\n",
       "      <td>315 Queen St E</td>\n",
       "      <td>at Berkeley St</td>\n",
       "      <td>43.655123</td>\n",
       "      <td>-79.365873</td>\n",
       "      <td>[{'label': 'display', 'lat': 43.65512324174501, 'lng': -79.36587330410705}]</td>\n",
       "      <td>369</td>\n",
       "      <td>M5A 1S7</td>\n",
       "      <td>CA</td>\n",
       "      <td>Toronto</td>\n",
       "      <td>ON</td>\n",
       "      <td>Canada</td>\n",
       "      <td>[315 Queen St E (at Berkeley St), Toronto ON M5A 1S7, Canada]</td>\n",
       "      <td>NaN</td>\n",
       "      <td>4ade8ea8f964a5205a7621e3</td>\n",
       "    </tr>\n",
       "    <tr>\n",
       "      <td>9</td>\n",
       "      <td>Sumach Espresso</td>\n",
       "      <td>Coffee Shop</td>\n",
       "      <td>118 Sumach St</td>\n",
       "      <td>at Shuter St</td>\n",
       "      <td>43.658135</td>\n",
       "      <td>-79.359515</td>\n",
       "      <td>[{'label': 'display', 'lat': 43.65813540553308, 'lng': -79.35951549011845}]</td>\n",
       "      <td>497</td>\n",
       "      <td>M5A 3J9</td>\n",
       "      <td>CA</td>\n",
       "      <td>Toronto</td>\n",
       "      <td>ON</td>\n",
       "      <td>Canada</td>\n",
       "      <td>[118 Sumach St (at Shuter St), Toronto ON M5A 3J9, Canada]</td>\n",
       "      <td>Downtown Toronto</td>\n",
       "      <td>5619551a498e9e35fce2256b</td>\n",
       "    </tr>\n",
       "  </tbody>\n",
       "</table>\n",
       "</div>"
      ],
      "text/plain": [
       "                         name             categories                 address  \\\n",
       "0  Sukhothai                   Thai Restaurant        274 Parliament St        \n",
       "1  I Love Churros              Food Truck             1017 Dufferin St         \n",
       "2  Figs Breakfast & Lunch      Breakfast Spot         344 Queen St. E.         \n",
       "3  Regent Park Aquatic Centre  Pool                   640 Dundas St. East      \n",
       "4  Ontario Restaurant          Diner                  383 dundas street east   \n",
       "5  Daniels Spectrum            Performing Arts Venue  585 Dundas St. East      \n",
       "6  Paintbox Bistro             Restaurant             555 Dundas St E          \n",
       "7  The Yoga Lounge             Yoga Studio            106 Sherbourne St.       \n",
       "8  Berkeley Church             Event Space            315 Queen St E           \n",
       "9  Sumach Espresso             Coffee Shop            118 Sumach St            \n",
       "\n",
       "                        crossStreet        lat        lng  \\\n",
       "0  btwn Coatsworth St. & Shuter St.  43.658444 -79.365681   \n",
       "1  Bloor St West                     43.658364 -79.365583   \n",
       "2  at Parliament St.                 43.655675 -79.364503   \n",
       "3  at Sumach St.                     43.660600 -79.361392   \n",
       "4  NaN                               43.658883 -79.368369   \n",
       "5  btwn Regent & Sumach              43.660137 -79.361808   \n",
       "6  Sackville St                      43.660050 -79.362855   \n",
       "7  at Adelaide St. East              43.655515 -79.364955   \n",
       "8  at Berkeley St                    43.655123 -79.365873   \n",
       "9  at Shuter St                      43.658135 -79.359515   \n",
       "\n",
       "                                                                 labeledLatLngs  \\\n",
       "0  [{'label': 'display', 'lat': 43.658444465539525, 'lng': -79.36568085121628}]   \n",
       "1  [{'label': 'display', 'lat': 43.65836361668554, 'lng': -79.36558277878224}]    \n",
       "2  [{'label': 'display', 'lat': 43.65567455427388, 'lng': -79.3645032892494}]     \n",
       "3  [{'label': 'display', 'lat': 43.6606003130796, 'lng': -79.36139162915349}]     \n",
       "4  [{'label': 'display', 'lat': 43.65888321199789, 'lng': -79.36836906142996}]    \n",
       "5  [{'label': 'display', 'lat': 43.66013679276432, 'lng': -79.36180783336452}]    \n",
       "6  [{'label': 'display', 'lat': 43.660050475903624, 'lng': -79.36285470971839}]   \n",
       "7  [{'label': 'display', 'lat': 43.65551522261721, 'lng': -79.36495542526245}]    \n",
       "8  [{'label': 'display', 'lat': 43.65512324174501, 'lng': -79.36587330410705}]    \n",
       "9  [{'label': 'display', 'lat': 43.65813540553308, 'lng': -79.35951549011845}]    \n",
       "\n",
       "   distance postalCode  cc     city state country  \\\n",
       "0  0         M5A 2Z6    CA  Toronto  ON    Canada   \n",
       "1  11        M6H 4B5    CA  Toronto  ON    Canada   \n",
       "2  322       M5A 1S8    CA  Toronto  ON    Canada   \n",
       "3  420       M5A 2B8    CA  Toronto  ON    Canada   \n",
       "4  221       NaN        CA  Toronto  ON    Canada   \n",
       "5  364       M5A 2B7    CA  Toronto  ON    Canada   \n",
       "6  289       M5A 2B7    CA  Toronto  ON    Canada   \n",
       "7  331       NaN        CA  Toronto  ON    Canada   \n",
       "8  369       M5A 1S7    CA  Toronto  ON    Canada   \n",
       "9  497       M5A 3J9    CA  Toronto  ON    Canada   \n",
       "\n",
       "                                                                     formattedAddress  \\\n",
       "0  [274 Parliament St (btwn Coatsworth St. & Shuter St.), Toronto ON M5A 2Z6, Canada]   \n",
       "1  [1017 Dufferin St (Bloor St West), Toronto ON M6H 4B5, Canada]                       \n",
       "2  [344 Queen St. E. (at Parliament St.), Toronto ON M5A 1S8, Canada]                   \n",
       "3  [640 Dundas St. East (at Sumach St.), Toronto ON M5A 2B8, Canada]                    \n",
       "4  [383 dundas street east, Toronto ON, Canada]                                         \n",
       "5  [585 Dundas St. East (btwn Regent & Sumach), Toronto ON M5A 2B7, Canada]             \n",
       "6  [555 Dundas St E (Sackville St), Toronto ON M5A 2B7, Canada]                         \n",
       "7  [106 Sherbourne St. (at Adelaide St. East), Toronto ON, Canada]                      \n",
       "8  [315 Queen St E (at Berkeley St), Toronto ON M5A 1S7, Canada]                        \n",
       "9  [118 Sumach St (at Shuter St), Toronto ON M5A 3J9, Canada]                           \n",
       "\n",
       "       neighborhood                        id  \n",
       "0  NaN               4ada57aff964a520972121e3  \n",
       "1  NaN               50899387e4b055a756b254fc  \n",
       "2  NaN               4af59046f964a520e0f921e3  \n",
       "3  NaN               5092fe87e4b0476c6e7375e2  \n",
       "4  NaN               4ae666dbf964a520dca621e3  \n",
       "5  NaN               505af105e4b0df441225430b  \n",
       "6  NaN               505bacb2e4b0474d876eb78c  \n",
       "7  NaN               4b58dd55f964a5208f6f28e3  \n",
       "8  NaN               4ade8ea8f964a5205a7621e3  \n",
       "9  Downtown Toronto  5619551a498e9e35fce2256b  "
      ]
     },
     "execution_count": 203,
     "metadata": {},
     "output_type": "execute_result"
    }
   ],
   "source": [
    "dataframe = json_normalize(items) # flatten JSON\n",
    "\n",
    "# filter columns\n",
    "filtered_columns = ['venue.name', 'venue.categories'] + [col for col in dataframe.columns if col.startswith('venue.location.')] + ['venue.id']\n",
    "dataframe_filtered = dataframe.loc[:, filtered_columns]\n",
    "\n",
    "# filter the category for each row\n",
    "dataframe_filtered['venue.categories'] = dataframe_filtered.apply(get_category_type, axis=1)\n",
    "\n",
    "# clean columns\n",
    "dataframe_filtered.columns = [col.split('.')[-1] for col in dataframe_filtered.columns]\n",
    "\n",
    "dataframe_filtered.head(10)"
   ]
  },
  {
   "cell_type": "code",
   "execution_count": 204,
   "metadata": {},
   "outputs": [
    {
     "data": {
      "text/html": [
       "<div style=\"width:100%;\"><div style=\"position:relative;width:100%;height:0;padding-bottom:60%;\"><span style=\"color:#565656\">Make this Notebook Trusted to load map: File -> Trust Notebook</span><iframe src=\"about:blank\" style=\"position:absolute;width:100%;height:100%;left:0;top:0;border:none !important;\" data-html=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 onload=\"this.contentDocument.open();this.contentDocument.write(atob(this.getAttribute('data-html')));this.contentDocument.close();\" allowfullscreen webkitallowfullscreen mozallowfullscreen></iframe></div></div>"
      ],
      "text/plain": [
       "<folium.folium.Map at 0x7fb7a4fee0d0>"
      ]
     },
     "execution_count": 204,
     "metadata": {},
     "output_type": "execute_result"
    }
   ],
   "source": [
    "venues_map = folium.Map(location=[latitude, longitude], zoom_start=15) # generate map centred around Ecco\n",
    "\n",
    "\n",
    "# add Ecco as a red circle mark\n",
    "folium.features.CircleMarker(\n",
    "    [latitude, longitude],\n",
    "    radius=10,\n",
    "    popup='Ecco',\n",
    "    fill=True,\n",
    "    color='red',\n",
    "    fill_color='red',\n",
    "    fill_opacity=0.6\n",
    "    ).add_to(venues_map)\n",
    "\n",
    "\n",
    "# add popular spots to the map as blue circle markers\n",
    "for lat, lng, label in zip(dataframe_filtered.lat, dataframe_filtered.lng, dataframe_filtered.categories):\n",
    "    folium.features.CircleMarker(\n",
    "        [lat, lng],\n",
    "        radius=5,\n",
    "        popup=label,\n",
    "        fill=True,\n",
    "        color='blue',\n",
    "        fill_color='blue',\n",
    "        fill_opacity=0.6\n",
    "        ).add_to(venues_map)\n",
    "\n",
    "# display map\n",
    "venues_map"
   ]
  },
  {
   "cell_type": "markdown",
   "metadata": {},
   "source": [
    "### 5. Explore trending venues near Sukothai @ Parliament St."
   ]
  },
  {
   "cell_type": "code",
   "execution_count": 205,
   "metadata": {},
   "outputs": [
    {
     "data": {
      "text/plain": [
       "{'meta': {'code': 200, 'requestId': '5f06bc1c1582505d8f4f0a0e'},\n",
       " 'response': {'venues': []}}"
      ]
     },
     "execution_count": 205,
     "metadata": {},
     "output_type": "execute_result"
    }
   ],
   "source": [
    "# define URL\n",
    "url = 'https://api.foursquare.com/v2/venues/trending?client_id={}&client_secret={}&ll={},{}&v={}'.format(CLIENT_ID, CLIENT_SECRET, latitude, longitude, VERSION)\n",
    "\n",
    "# send GET request and get trending venues\n",
    "results = requests.get(url).json()\n",
    "results"
   ]
  },
  {
   "cell_type": "code",
   "execution_count": 206,
   "metadata": {},
   "outputs": [],
   "source": [
    "if len(results['response']['venues']) == 0:\n",
    "    trending_venues_df = 'No trending venues are available at the moment!'\n",
    "    \n",
    "else:\n",
    "    trending_venues = results['response']['venues']\n",
    "    trending_venues_df = json_normalize(trending_venues)\n",
    "\n",
    "    # filter columns\n",
    "    columns_filtered = ['name', 'categories'] + ['location.distance', 'location.city', 'location.postalCode', 'location.state', 'location.country', 'location.lat', 'location.lng']\n",
    "    trending_venues_df = trending_venues_df.loc[:, columns_filtered]\n",
    "\n",
    "    # filter the category for each row\n",
    "    trending_venues_df['categories'] = trending_venues_df.apply(get_category_type, axis=1)"
   ]
  },
  {
   "cell_type": "code",
   "execution_count": 207,
   "metadata": {},
   "outputs": [
    {
     "data": {
      "text/plain": [
       "'No trending venues are available at the moment!'"
      ]
     },
     "execution_count": 207,
     "metadata": {},
     "output_type": "execute_result"
    }
   ],
   "source": [
    "# display trending venues\n",
    "trending_venues_df"
   ]
  },
  {
   "cell_type": "code",
   "execution_count": 208,
   "metadata": {},
   "outputs": [],
   "source": [
    "if len(results['response']['venues']) == 0:\n",
    "    venues_map = 'Cannot generate visual as no trending venues are available at the moment!'\n",
    "\n",
    "else:\n",
    "    venues_map = folium.Map(location=[latitude, longitude], zoom_start=15) # generate map centred around Ecco\n",
    "\n",
    "\n",
    "    # add Ecco as a red circle mark\n",
    "    folium.features.CircleMarker(\n",
    "        [latitude, longitude],\n",
    "        radius=10,\n",
    "        popup='Ecco',\n",
    "        fill=True,\n",
    "        color='red',\n",
    "        fill_color='red',\n",
    "        fill_opacity=0.6\n",
    "    ).add_to(venues_map)\n",
    "\n",
    "\n",
    "    # add the trending venues as blue circle markers\n",
    "    for lat, lng, label in zip(trending_venues_df['location.lat'], trending_venues_df['location.lng'], trending_venues_df['name']):\n",
    "        folium.features.CircleMarker(\n",
    "            [lat, lng],\n",
    "            radius=5,\n",
    "            poup=label,\n",
    "            fill=True,\n",
    "            color='blue',\n",
    "            fill_color='blue',\n",
    "            fill_opacity=0.6\n",
    "        ).add_to(venues_map)"
   ]
  },
  {
   "cell_type": "code",
   "execution_count": 209,
   "metadata": {},
   "outputs": [
    {
     "data": {
      "text/plain": [
       "'Cannot generate visual as no trending venues are available at the moment!'"
      ]
     },
     "execution_count": 209,
     "metadata": {},
     "output_type": "execute_result"
    }
   ],
   "source": [
    "# display map\n",
    "venues_map"
   ]
  },
  {
   "cell_type": "code",
   "execution_count": null,
   "metadata": {},
   "outputs": [],
   "source": []
  }
 ],
 "metadata": {
  "kernelspec": {
   "display_name": "Python 3",
   "language": "python",
   "name": "python3"
  },
  "language_info": {
   "codemirror_mode": {
    "name": "ipython",
    "version": 3
   },
   "file_extension": ".py",
   "mimetype": "text/x-python",
   "name": "python",
   "nbconvert_exporter": "python",
   "pygments_lexer": "ipython3",
   "version": "3.7.4"
  }
 },
 "nbformat": 4,
 "nbformat_minor": 2
}
